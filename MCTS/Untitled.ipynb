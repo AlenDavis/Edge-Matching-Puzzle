{
 "cells": [
  {
   "cell_type": "code",
   "execution_count": 1,
   "metadata": {},
   "outputs": [],
   "source": [
    "from mcts_new import *"
   ]
  },
  {
   "cell_type": "code",
   "execution_count": 2,
   "metadata": {},
   "outputs": [
    {
     "name": "stdout",
     "output_type": "stream",
     "text": [
      "--- 0.151432037354 seconds ---\n",
      "[['0', '0', '4'], ['0', '2', '3'], ['1', '2', '4'], ['1', '0', '1'], ['0', '1', '4'], ['1', '1', '3'], ['1', '5', '3'], ['3', '5', '1'], ['3', '0', '3'], ['0', '4', '3'], ['3', '4', '4'], ['3', '4', '2'], ['1', '4', '3'], ['1', '2', '2'], ['2', '2', '3'], ['2', '0', '1'], ['0', '3', '0'], ['1', '3', '3'], ['1', '4', '0'], ['3', '4', '2'], ['3', '3', '0'], ['5', '3', '2'], ['5', '4', '0'], ['5', '4', '1'], ['5', '0', '0']]\n"
     ]
    },
    {
     "ename": "SystemExit",
     "evalue": "",
     "output_type": "error",
     "traceback": [
      "An exception has occurred, use %tb to see the full traceback.\n",
      "\u001b[0;31mSystemExit\u001b[0m\n"
     ]
    },
    {
     "name": "stderr",
     "output_type": "stream",
     "text": [
      "/usr/local/lib/python2.7/dist-packages/IPython/core/interactiveshell.py:2890: UserWarning: To exit: use 'exit', 'quit', or Ctrl-D.\n",
      "  warn(\"To exit: use 'exit', 'quit', or Ctrl-D.\", stacklevel=1)\n"
     ]
    }
   ],
   "source": [
    "obj1  = MCTS(\"Untitled 3.csv\")"
   ]
  },
  {
   "cell_type": "code",
   "execution_count": 3,
   "metadata": {},
   "outputs": [
    {
     "name": "stdout",
     "output_type": "stream",
     "text": [
      "--- 0.00217700004578 seconds ---\n",
      "[['0', '0', '5'], ['0', '3', '4'], ['1', '3', '5'], ['1', '0', '4'], ['0', '1', '2'], ['5', '1', '4'], ['5', '1', '4'], ['5', '1', '4'], ['5', '0', '3'], ['0', '1', '0'], ['1', '1', '2'], ['1', '1', '0'], ['5', '1', '4'], ['5', '3', '0'], ['5', '3', '3'], ['5', '0', '0']]\n"
     ]
    },
    {
     "ename": "SystemExit",
     "evalue": "",
     "output_type": "error",
     "traceback": [
      "An exception has occurred, use %tb to see the full traceback.\n",
      "\u001b[0;31mSystemExit\u001b[0m\n"
     ]
    }
   ],
   "source": [
    "obj2  = MCTS(\"Untitled 2.csv\")"
   ]
  },
  {
   "cell_type": "code",
   "execution_count": null,
   "metadata": {},
   "outputs": [],
   "source": []
  }
 ],
 "metadata": {
  "kernelspec": {
   "display_name": "Python 2",
   "language": "python",
   "name": "python2"
  },
  "language_info": {
   "codemirror_mode": {
    "name": "ipython",
    "version": 2
   },
   "file_extension": ".py",
   "mimetype": "text/x-python",
   "name": "python",
   "nbconvert_exporter": "python",
   "pygments_lexer": "ipython2",
   "version": "2.7.12"
  }
 },
 "nbformat": 4,
 "nbformat_minor": 2
}
